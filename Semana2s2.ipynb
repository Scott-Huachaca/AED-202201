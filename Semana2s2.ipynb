{
  "nbformat": 4,
  "nbformat_minor": 0,
  "metadata": {
    "colab": {
      "name": "Semana2s2",
      "provenance": [],
      "authorship_tag": "ABX9TyMcs6fghUS9S5X/+99rDUa/",
      "include_colab_link": true
    },
    "kernelspec": {
      "name": "python3",
      "display_name": "Python 3"
    },
    "language_info": {
      "name": "python"
    }
  },
  "cells": [
    {
      "cell_type": "markdown",
      "metadata": {
        "id": "view-in-github",
        "colab_type": "text"
      },
      "source": [
        "<a href=\"https://colab.research.google.com/github/Scott-Huachaca/AED-202201/blob/main/Semana2s2.ipynb\" target=\"_parent\"><img src=\"https://colab.research.google.com/assets/colab-badge.svg\" alt=\"Open In Colab\"/></a>"
      ]
    },
    {
      "cell_type": "code",
      "execution_count": null,
      "metadata": {
        "colab": {
          "base_uri": "https://localhost:8080/"
        },
        "id": "0RITjOxAXeFP",
        "outputId": "5a29b557-5c3f-4c6b-fe73-359cb7944606"
      },
      "outputs": [
        {
          "output_type": "stream",
          "name": "stdout",
          "text": [
            "Overwriting lambdaejemplo.cpp\n"
          ]
        }
      ],
      "source": [
        "%%writefile lambdaejemplo.cpp\n",
        "#include <iostream>\n",
        "#include <functional>\n",
        "using std::endl;\n",
        "using std::cout;\n",
        "using std::function;\n",
        "\n",
        "int main(){\n",
        "    \n",
        "    auto f1 = [](int x, int y) {return x + y; };\n",
        "    cout << f1 (2,3) << endl; \n",
        "\n",
        "    function<int(int,int)>f2 =[](int x,int y) {return x + y;};\n",
        "    cout <<f2(3,4)<<endl;\n",
        "\n",
        "    auto cuadrado = [](int x) {return x * x; }(5);\n",
        "    cout <<cuadrado << endl;\n",
        "\n",
        "    int sum = [] (int x, int y) {return x + y; } (5,4);\n",
        "    auto mul = [] (int x, int y) {return x * y; };\n",
        "\n",
        "    cout << \"sum(5,4)=> \" << sum << endl;\n",
        "    cout << \"mul(5,4)=> \" << mul(5,3) << endl; \n",
        "\n",
        "    //auto celular = [] (celular*c,size_t n) {return x + y;};\n",
        "\n",
        "    //function<Celular(celular*, size_t)> get =[](Celular* c, size_t n) {return C[n-1]}\n",
        "}"
      ]
    },
    {
      "cell_type": "code",
      "source": [
        "!g++ lambdaejemplo.cpp && ./a.out "
      ],
      "metadata": {
        "colab": {
          "base_uri": "https://localhost:8080/"
        },
        "id": "hnHvEtl-ZX3s",
        "outputId": "f5d6b293-1123-479f-ee26-45457680ab6a"
      },
      "execution_count": null,
      "outputs": [
        {
          "output_type": "stream",
          "name": "stdout",
          "text": [
            "5\n",
            "7\n",
            "25\n",
            "sum(5,4)=> 9\n",
            "mul(5,4)=> 15\n"
          ]
        }
      ]
    },
    {
      "cell_type": "code",
      "source": [
        "%%writefile ejemplo1.cpp\n",
        "#include <iostream>\n",
        "#include <functional>\n",
        "using std::endl;\n",
        "using std::function;\n",
        "using std::cout;\n",
        "\n",
        "void operacion(function<int(int,int)> f, int x, int y){\n",
        "    cout<<f(x,y)<<endl;\n",
        "}\n",
        "int main(){\n",
        "    \n",
        "    //define el tipo de dato en tiempo de ejecucion\n",
        "    auto suma =[](int a, int b){return a+b;};\n",
        "    auto resta =[](int a, int b){return a-b;};\n",
        "\n",
        "    //define el tipo de dato en tiempo de compilacion\n",
        "    function<int(int,int)> multi =[](int a, int b){return a*b;};\n",
        "    function<int(int,int)> divide =[](int a, int b){return a/b;};\n",
        "\n",
        "    operacion(suma,8,4);\n",
        "    operacion(resta,8,4);\n",
        "    operacion(multi,8,4);\n",
        "    operacion(divide,8,4);\n",
        "}\n"
      ],
      "metadata": {
        "colab": {
          "base_uri": "https://localhost:8080/"
        },
        "id": "Z3-Xl4x28VJy",
        "outputId": "9babd982-8b4b-41e6-cc6b-4399f1cee6e0"
      },
      "execution_count": null,
      "outputs": [
        {
          "output_type": "stream",
          "name": "stdout",
          "text": [
            "Overwriting ejemplo1.cpp\n"
          ]
        }
      ]
    },
    {
      "cell_type": "code",
      "source": [
        "!g++ ejemplo1.cpp && ./a.out"
      ],
      "metadata": {
        "colab": {
          "base_uri": "https://localhost:8080/"
        },
        "id": "zW7K06FDKiLb",
        "outputId": "28e1d06f-a68d-4fbd-ca11-5af1be62d1f4"
      },
      "execution_count": null,
      "outputs": [
        {
          "output_type": "stream",
          "name": "stdout",
          "text": [
            "12\n",
            "4\n",
            "32\n",
            "2\n"
          ]
        }
      ]
    },
    {
      "cell_type": "markdown",
      "source": [
        "#Ejercicio\n",
        ">El gobierno de turno del presidente Vizcarra se declaro unas medidas de emergencia por la pandemia que fueron:\n",
        "* lunes, miercoles y viernes salen hombres\n",
        "* martes, jueves y sabados salen mujeres \n",
        "* domingo nadie sale\n",
        "\n",
        "Simular este procedimiento haciendo uso de lambdas y functores"
      ],
      "metadata": {
        "id": "_nV-TKSVTuo8"
      }
    },
    {
      "cell_type": "code",
      "source": [
        "%%writefile ejemplo2.cpp\n",
        "#include <iostream>\n",
        "#include <functional>\n",
        "using namespace std;\n",
        "void salir(function<void()> f){ f();}\n",
        "int main(){\n",
        "    unsigned short dia;\n",
        "    function <void()> f1 = [](){cout<<\"salen hombres\"<<endl;};\n",
        "    function <void()> f2 = [](){cout<<\"salen mujeres\"<<endl;};\n",
        "    function <void()> f3 = [](){cout<<\"nadie sale\"<<endl;};\n",
        "    cout << \"ingrese dia\"; cin>>dia;\n",
        "    switch(dia){\n",
        "        case 1:case 3:case 5: salir(f1);break;\n",
        "        case 2:case 4:case 6: salir(f2);break;\n",
        "        case 7:salir(f3);break;\n",
        "    }\n",
        "}"
      ],
      "metadata": {
        "colab": {
          "base_uri": "https://localhost:8080/"
        },
        "id": "3lkXHcoYK0L-",
        "outputId": "2befc748-0dab-43c2-da71-5357d92ed244"
      },
      "execution_count": null,
      "outputs": [
        {
          "output_type": "stream",
          "name": "stdout",
          "text": [
            "Overwriting ejemplo2.cpp\n"
          ]
        }
      ]
    },
    {
      "cell_type": "code",
      "source": [
        "!g++ ejemplo2.cpp && ./a.out"
      ],
      "metadata": {
        "colab": {
          "base_uri": "https://localhost:8080/"
        },
        "id": "Mf33UZMNP8J6",
        "outputId": "0903a665-7751-4135-c89e-c094a47d1dc5"
      },
      "execution_count": null,
      "outputs": [
        {
          "output_type": "stream",
          "name": "stdout",
          "text": [
            "ingrese dia5\n",
            "salen hombres\n"
          ]
        }
      ]
    },
    {
      "cell_type": "code",
      "source": [
        ""
      ],
      "metadata": {
        "id": "Yv2zb8ArQGYQ"
      },
      "execution_count": null,
      "outputs": []
    }
  ]
}