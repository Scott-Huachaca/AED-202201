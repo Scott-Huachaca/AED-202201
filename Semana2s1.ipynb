{
  "nbformat": 4,
  "nbformat_minor": 0,
  "metadata": {
    "colab": {
      "name": "Semana2s1",
      "provenance": [],
      "collapsed_sections": [],
      "authorship_tag": "ABX9TyPj6Zp/yMfvMGYfQlxcHSDC",
      "include_colab_link": true
    },
    "kernelspec": {
      "name": "python3",
      "display_name": "Python 3"
    },
    "language_info": {
      "name": "python"
    }
  },
  "cells": [
    {
      "cell_type": "markdown",
      "metadata": {
        "id": "view-in-github",
        "colab_type": "text"
      },
      "source": [
        "<a href=\"https://colab.research.google.com/github/Scott-Huachaca/AED-202201/blob/main/Semana2s1.ipynb\" target=\"_parent\"><img src=\"https://colab.research.google.com/assets/colab-badge.svg\" alt=\"Open In Colab\"/></a>"
      ]
    },
    {
      "cell_type": "code",
      "execution_count": null,
      "metadata": {
        "colab": {
          "base_uri": "https://localhost:8080/"
        },
        "id": "rRr7ir61246U",
        "outputId": "489175f6-c688-4f45-dce7-1e46c519ec66"
      },
      "outputs": [
        {
          "output_type": "stream",
          "name": "stdout",
          "text": [
            "Writing programal.cpp\n"
          ]
        }
      ],
      "source": [
        "%%writefile programal.cpp\n",
        "#include <iostream>\n",
        "using namespace std;\n",
        "int main(){\n",
        "    cout <<\"nos vamos por la victoria\";\n",
        "    return 0;\n",
        "}"
      ]
    },
    {
      "cell_type": "code",
      "source": [
        "!g++ programal.cpp"
      ],
      "metadata": {
        "id": "RNkZlsiT4S2w"
      },
      "execution_count": null,
      "outputs": []
    },
    {
      "cell_type": "code",
      "source": [
        "!./a.out"
      ],
      "metadata": {
        "colab": {
          "base_uri": "https://localhost:8080/"
        },
        "id": "IaQNQO_N4chI",
        "outputId": "d822915c-f4f4-4d5c-87ba-bf9793dbbc43"
      },
      "execution_count": null,
      "outputs": [
        {
          "output_type": "stream",
          "name": "stdout",
          "text": [
            "nos vamos por la victoria"
          ]
        }
      ]
    },
    {
      "cell_type": "markdown",
      "source": [
        "#Ejemplo 2\n",
        "Elaborar un programa en entorno consola que permita almacenar en un arreglo hasta 100 valores enteros. Luego realice lo siguiente:\n",
        "* Generar los datos del arreglo en forma aleatoria\n",
        "* Listar en pantalla los elementos del arreglo\n",
        "* Buscar el mayor y mostrar su ubicación\n",
        "* Buscar el menor y mostrar su ubicación\n",
        "* Ordenar el arreglo en forma descendente y mostrarlo en pantalla\n",
        "En la solución considere un menú de opciones para cada funcionalidad y utilice funciones, punteros y arreglos dinámicos.\n",
        "\n"
      ],
      "metadata": {
        "id": "KMbHVOdq5BVr"
      }
    },
    {
      "cell_type": "code",
      "source": [
        "%%writefile biblioteca.cpp\n",
        "//implementacion de las bibliotecas, clases  y funciones\n",
        "#include \"biblioteca.hpp\"\n",
        "\n",
        "void generar(short* a, size_t n){\n",
        "  for(size_t i=0;i<n;++i){\n",
        "      a[i]=rand()%101+100;//rango de 100 a 200    \n",
        "  }  \n",
        "}\n",
        "\n",
        "void listar(short* a, size_t n){\n",
        "for(size_t i=0;i<n;++i){\n",
        "      cout<<i<<\"-> \"<<a[i]<<\"\\n\";\n",
        "  }  \n",
        "}\n",
        "\n",
        "void mayor(short* a, size_t n){\n",
        "  short _mayor=a[0], _pos=-1;\n",
        "  \n",
        "for(size_t i=1;i<n;++i){\n",
        "  if(a[i]>_mayor){\n",
        "      _mayor=a[i];//actualizo el mayor\n",
        "      _pos=i;\n",
        "    }\n",
        "  }\n",
        "  cout<<\"El mayor valor es\"<<_mayor<<\" y se encuentra en la posicion\"<<_pos<<\"\\n\";\n",
        "}\n",
        "void ordenar(short* a, size_t n){\n",
        "  for(int i=0;i<n-1;++i){\n",
        "  for(int j=i+1;j<n;++j){\n",
        "   if(a[i]>a[j]){\n",
        "    short aux=a[i];\n",
        "    a[i]=a[j];\n",
        "    a[j]=aux;\n",
        "  }\n",
        "}\n",
        "    }\n",
        "}\n",
        "void mayorPromedio(short* a, size_t n){\n",
        "  float prom=0.0f;    \n",
        "  //obteniendo el promedio\n",
        "  for(int i=0;i<n-1;++i)\n",
        "        prom+=a[i];\n",
        "  prom/=n;//prom=prom/n   \n",
        "  //listar mayor al promedio\n",
        "  for(int i=0;i<n-1;++i)\n",
        "        if(a[i]>prom)cout<<i<<\"->\"<<a[i]<<\"\\n\";\n",
        "  }"
      ],
      "metadata": {
        "colab": {
          "base_uri": "https://localhost:8080/"
        },
        "id": "_Y5Qy1p194Ym",
        "outputId": "332dbf78-d4d9-4772-fda7-2dac409ad2c0"
      },
      "execution_count": null,
      "outputs": [
        {
          "output_type": "stream",
          "name": "stdout",
          "text": [
            "Overwriting biblioteca.cpp\n"
          ]
        }
      ]
    },
    {
      "cell_type": "code",
      "source": [
        "%%writefile ejercicio2.cpp\n",
        "#include \"biblioteca.hpp\"\n",
        "int main() {\n",
        "short* arreglo=new short[100];  \n",
        "srand(time(NULL));//inicializacion de la semilla\n",
        "generar(arreglo,100);\n",
        "listar(arreglo, 100);\n",
        "//mayor(arreglo, 100);   \n",
        "ordenar(arreglo, 100);\n",
        "cout<<\"-------------\\n\";\n",
        "//listar(arreglo, 100);\n",
        "  mayorPromedio(arreglo, 100);\n",
        "}"
      ],
      "metadata": {
        "colab": {
          "base_uri": "https://localhost:8080/"
        },
        "id": "2OMW4ppX-KvL",
        "outputId": "6ee01bbc-7f25-4180-96ca-1ddfbf7195d2"
      },
      "execution_count": null,
      "outputs": [
        {
          "output_type": "stream",
          "name": "stdout",
          "text": [
            "Overwriting ejercicio2.cpp\n"
          ]
        }
      ]
    },
    {
      "cell_type": "code",
      "source": [
        "!g++ biblioteca.cpp ejercicio2.cpp && ./a.out"
      ],
      "metadata": {
        "id": "N9gk-xF-_m9P"
      },
      "execution_count": null,
      "outputs": []
    },
    {
      "cell_type": "markdown",
      "source": [
        "#Templates"
      ],
      "metadata": {
        "id": "zg9ALvw7DCFX"
      }
    },
    {
      "cell_type": "code",
      "source": [
        "%%writefile biblioteca.hpp\n",
        "//Definicion de bibliotecas, clases y funciones\n",
        "#include <iostream>\n",
        "#include <cstdlib>// srand, rand\n",
        "#include <ctime>//time\n",
        "\n",
        "using std::cout;\n",
        "using std::cin;\n",
        "//definición de la funcion\n",
        "template <typename Generico>\n",
        "\n",
        "class Arreglo{\n",
        "    Generico* a;\n",
        "    size_t n;\n",
        "    size_t id;\n",
        "  public:\n",
        "    Arreglo(){\n",
        "        n=10;\n",
        "        id=0;\n",
        "        a=new Generico[n]; \n",
        "    }\n",
        "    void insertar(Generico e){\n",
        "        if(id<n) a[id++]=e;\n",
        "    }\n",
        "    void listar(){\n",
        "        for(size_t i=0;i<n;++i){\n",
        "            cout<<i<<\"-> \" <<a[i]<<\"\\n\";\n",
        "        }\n",
        "    }\n",
        "\n",
        "};\n"
      ],
      "metadata": {
        "colab": {
          "base_uri": "https://localhost:8080/"
        },
        "id": "ZiGEPDyg5Fm7",
        "outputId": "2398ef82-55aa-441e-b08f-237c03020dbe"
      },
      "execution_count": null,
      "outputs": [
        {
          "output_type": "stream",
          "name": "stdout",
          "text": [
            "Overwriting biblioteca.hpp\n"
          ]
        }
      ]
    },
    {
      "cell_type": "code",
      "source": [
        "%%writefile ejemplo3.cpp\n",
        "#include \"biblioteca.hpp\"\n",
        "int main(){\n",
        "    Arreglo<short>* arr1=new Arreglo<short>();\n",
        "    Arreglo<float>* arr2=new Arreglo<float>();\n",
        "    Arreglo<long>* arr3=new Arreglo<long>();\n",
        "    for(size_t i=0;i<10;++i){\n",
        "        arr1->insertar(i);\n",
        "        arr2->insertar(i*1.753);\n",
        "        arr3->insertar(i*100000000);\n",
        "    }\n",
        "    arr1->listar();cout<<\"\\n\";\n",
        "    arr2->listar();cout<<\"\\n\";\n",
        "    arr3->listar();cout<<\"\\n\";  \n",
        "}"
      ],
      "metadata": {
        "colab": {
          "base_uri": "https://localhost:8080/"
        },
        "id": "cdblhCgDWhVI",
        "outputId": "93e45515-6236-4c87-c9b1-bed58b98d075"
      },
      "execution_count": null,
      "outputs": [
        {
          "output_type": "stream",
          "name": "stdout",
          "text": [
            "Overwriting ejemplo3.cpp\n"
          ]
        }
      ]
    },
    {
      "cell_type": "code",
      "source": [
        "!g++ ejemplo3.cpp && ./a.out"
      ],
      "metadata": {
        "colab": {
          "base_uri": "https://localhost:8080/"
        },
        "id": "Jd0EViWsY6D-",
        "outputId": "ac02e533-d16f-4f65-fa91-6631db64a75e"
      },
      "execution_count": null,
      "outputs": [
        {
          "output_type": "stream",
          "name": "stdout",
          "text": [
            "0-> 0\n",
            "1-> 1\n",
            "2-> 2\n",
            "3-> 3\n",
            "4-> 4\n",
            "5-> 5\n",
            "6-> 6\n",
            "7-> 7\n",
            "8-> 8\n",
            "9-> 9\n",
            "\n",
            "0-> 0\n",
            "1-> 1.753\n",
            "2-> 3.506\n",
            "3-> 5.259\n",
            "4-> 7.012\n",
            "5-> 8.765\n",
            "6-> 10.518\n",
            "7-> 12.271\n",
            "8-> 14.024\n",
            "9-> 15.777\n",
            "\n",
            "0-> 0\n",
            "1-> 100000000\n",
            "2-> 200000000\n",
            "3-> 300000000\n",
            "4-> 400000000\n",
            "5-> 500000000\n",
            "6-> 600000000\n",
            "7-> 700000000\n",
            "8-> 800000000\n",
            "9-> 900000000\n",
            "\n"
          ]
        }
      ]
    }
  ]
}